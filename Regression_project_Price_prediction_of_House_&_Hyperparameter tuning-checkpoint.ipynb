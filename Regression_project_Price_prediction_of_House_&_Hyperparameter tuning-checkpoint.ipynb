{
 "cells": [
  {
   "cell_type": "code",
   "execution_count": 1,
   "id": "581f9083",
   "metadata": {},
   "outputs": [],
   "source": [
    "import pandas as pd\n",
    "import numpy as np\n",
    "import seaborn as sns\n",
    "import matplotlib.pyplot as plt"
   ]
  },
  {
   "cell_type": "code",
   "execution_count": 2,
   "id": "5a0f7c0a",
   "metadata": {},
   "outputs": [],
   "source": [
    "df=pd.read_csv(r\"C:\\Users\\HP\\Desktop\\DS\\Machine Learning\\Data Sets\\House_price_prediction.csv\")"
   ]
  },
  {
   "cell_type": "code",
   "execution_count": 3,
   "id": "1c243d7e",
   "metadata": {},
   "outputs": [
    {
     "data": {
      "text/html": [
       "<div>\n",
       "<style scoped>\n",
       "    .dataframe tbody tr th:only-of-type {\n",
       "        vertical-align: middle;\n",
       "    }\n",
       "\n",
       "    .dataframe tbody tr th {\n",
       "        vertical-align: top;\n",
       "    }\n",
       "\n",
       "    .dataframe thead th {\n",
       "        text-align: right;\n",
       "    }\n",
       "</style>\n",
       "<table border=\"1\" class=\"dataframe\">\n",
       "  <thead>\n",
       "    <tr style=\"text-align: right;\">\n",
       "      <th></th>\n",
       "      <th>price</th>\n",
       "      <th>area</th>\n",
       "      <th>bedrooms</th>\n",
       "      <th>bathrooms</th>\n",
       "      <th>stories</th>\n",
       "      <th>mainroad</th>\n",
       "      <th>guestroom</th>\n",
       "      <th>basement</th>\n",
       "      <th>hotwaterheating</th>\n",
       "      <th>airconditioning</th>\n",
       "      <th>parking</th>\n",
       "      <th>prefarea</th>\n",
       "      <th>furnishingstatus</th>\n",
       "    </tr>\n",
       "  </thead>\n",
       "  <tbody>\n",
       "    <tr>\n",
       "      <th>0</th>\n",
       "      <td>23300000</td>\n",
       "      <td>7420</td>\n",
       "      <td>4</td>\n",
       "      <td>2</td>\n",
       "      <td>3</td>\n",
       "      <td>yes</td>\n",
       "      <td>no</td>\n",
       "      <td>no</td>\n",
       "      <td>no</td>\n",
       "      <td>yes</td>\n",
       "      <td>2</td>\n",
       "      <td>yes</td>\n",
       "      <td>furnished</td>\n",
       "    </tr>\n",
       "    <tr>\n",
       "      <th>1</th>\n",
       "      <td>12620000</td>\n",
       "      <td>8960</td>\n",
       "      <td>4</td>\n",
       "      <td>4</td>\n",
       "      <td>4</td>\n",
       "      <td>yes</td>\n",
       "      <td>no</td>\n",
       "      <td>no</td>\n",
       "      <td>no</td>\n",
       "      <td>yes</td>\n",
       "      <td>3</td>\n",
       "      <td>no</td>\n",
       "      <td>furnished</td>\n",
       "    </tr>\n",
       "    <tr>\n",
       "      <th>2</th>\n",
       "      <td>16250000</td>\n",
       "      <td>9960</td>\n",
       "      <td>3</td>\n",
       "      <td>2</td>\n",
       "      <td>2</td>\n",
       "      <td>yes</td>\n",
       "      <td>no</td>\n",
       "      <td>yes</td>\n",
       "      <td>no</td>\n",
       "      <td>no</td>\n",
       "      <td>2</td>\n",
       "      <td>yes</td>\n",
       "      <td>semi-furnished</td>\n",
       "    </tr>\n",
       "    <tr>\n",
       "      <th>3</th>\n",
       "      <td>12215000</td>\n",
       "      <td>7500</td>\n",
       "      <td>4</td>\n",
       "      <td>2</td>\n",
       "      <td>2</td>\n",
       "      <td>yes</td>\n",
       "      <td>no</td>\n",
       "      <td>yes</td>\n",
       "      <td>no</td>\n",
       "      <td>yes</td>\n",
       "      <td>3</td>\n",
       "      <td>yes</td>\n",
       "      <td>furnished</td>\n",
       "    </tr>\n",
       "    <tr>\n",
       "      <th>4</th>\n",
       "      <td>11410000</td>\n",
       "      <td>7420</td>\n",
       "      <td>4</td>\n",
       "      <td>1</td>\n",
       "      <td>2</td>\n",
       "      <td>yes</td>\n",
       "      <td>yes</td>\n",
       "      <td>yes</td>\n",
       "      <td>no</td>\n",
       "      <td>yes</td>\n",
       "      <td>2</td>\n",
       "      <td>no</td>\n",
       "      <td>furnished</td>\n",
       "    </tr>\n",
       "    <tr>\n",
       "      <th>...</th>\n",
       "      <td>...</td>\n",
       "      <td>...</td>\n",
       "      <td>...</td>\n",
       "      <td>...</td>\n",
       "      <td>...</td>\n",
       "      <td>...</td>\n",
       "      <td>...</td>\n",
       "      <td>...</td>\n",
       "      <td>...</td>\n",
       "      <td>...</td>\n",
       "      <td>...</td>\n",
       "      <td>...</td>\n",
       "      <td>...</td>\n",
       "    </tr>\n",
       "    <tr>\n",
       "      <th>5494</th>\n",
       "      <td>1855000</td>\n",
       "      <td>2990</td>\n",
       "      <td>2</td>\n",
       "      <td>1</td>\n",
       "      <td>1</td>\n",
       "      <td>no</td>\n",
       "      <td>no</td>\n",
       "      <td>no</td>\n",
       "      <td>no</td>\n",
       "      <td>no</td>\n",
       "      <td>1</td>\n",
       "      <td>no</td>\n",
       "      <td>unfurnished</td>\n",
       "    </tr>\n",
       "    <tr>\n",
       "      <th>5495</th>\n",
       "      <td>1767150</td>\n",
       "      <td>2400</td>\n",
       "      <td>3</td>\n",
       "      <td>1</td>\n",
       "      <td>1</td>\n",
       "      <td>no</td>\n",
       "      <td>no</td>\n",
       "      <td>no</td>\n",
       "      <td>no</td>\n",
       "      <td>no</td>\n",
       "      <td>0</td>\n",
       "      <td>no</td>\n",
       "      <td>semi-furnished</td>\n",
       "    </tr>\n",
       "    <tr>\n",
       "      <th>5496</th>\n",
       "      <td>1455000</td>\n",
       "      <td>2910</td>\n",
       "      <td>3</td>\n",
       "      <td>2</td>\n",
       "      <td>1</td>\n",
       "      <td>no</td>\n",
       "      <td>no</td>\n",
       "      <td>no</td>\n",
       "      <td>no</td>\n",
       "      <td>yes</td>\n",
       "      <td>0</td>\n",
       "      <td>no</td>\n",
       "      <td>furnished</td>\n",
       "    </tr>\n",
       "    <tr>\n",
       "      <th>5497</th>\n",
       "      <td>5600000</td>\n",
       "      <td>4800</td>\n",
       "      <td>5</td>\n",
       "      <td>2</td>\n",
       "      <td>3</td>\n",
       "      <td>no</td>\n",
       "      <td>no</td>\n",
       "      <td>yes</td>\n",
       "      <td>yes</td>\n",
       "      <td>no</td>\n",
       "      <td>0</td>\n",
       "      <td>no</td>\n",
       "      <td>unfurnished</td>\n",
       "    </tr>\n",
       "    <tr>\n",
       "      <th>5498</th>\n",
       "      <td>4340000</td>\n",
       "      <td>1905</td>\n",
       "      <td>4</td>\n",
       "      <td>1</td>\n",
       "      <td>2</td>\n",
       "      <td>no</td>\n",
       "      <td>no</td>\n",
       "      <td>yes</td>\n",
       "      <td>no</td>\n",
       "      <td>no</td>\n",
       "      <td>0</td>\n",
       "      <td>no</td>\n",
       "      <td>semi-furnished</td>\n",
       "    </tr>\n",
       "  </tbody>\n",
       "</table>\n",
       "<p>5499 rows × 13 columns</p>\n",
       "</div>"
      ],
      "text/plain": [
       "         price  area  bedrooms  bathrooms  stories mainroad guestroom  \\\n",
       "0     23300000  7420         4          2        3      yes        no   \n",
       "1     12620000  8960         4          4        4      yes        no   \n",
       "2     16250000  9960         3          2        2      yes        no   \n",
       "3     12215000  7500         4          2        2      yes        no   \n",
       "4     11410000  7420         4          1        2      yes       yes   \n",
       "...        ...   ...       ...        ...      ...      ...       ...   \n",
       "5494   1855000  2990         2          1        1       no        no   \n",
       "5495   1767150  2400         3          1        1       no        no   \n",
       "5496   1455000  2910         3          2        1       no        no   \n",
       "5497   5600000  4800         5          2        3       no        no   \n",
       "5498   4340000  1905         4          1        2       no        no   \n",
       "\n",
       "     basement hotwaterheating airconditioning  parking prefarea  \\\n",
       "0          no              no             yes        2      yes   \n",
       "1          no              no             yes        3       no   \n",
       "2         yes              no              no        2      yes   \n",
       "3         yes              no             yes        3      yes   \n",
       "4         yes              no             yes        2       no   \n",
       "...       ...             ...             ...      ...      ...   \n",
       "5494       no              no              no        1       no   \n",
       "5495       no              no              no        0       no   \n",
       "5496       no              no             yes        0       no   \n",
       "5497      yes             yes              no        0       no   \n",
       "5498      yes              no              no        0       no   \n",
       "\n",
       "     furnishingstatus  \n",
       "0           furnished  \n",
       "1           furnished  \n",
       "2      semi-furnished  \n",
       "3           furnished  \n",
       "4           furnished  \n",
       "...               ...  \n",
       "5494      unfurnished  \n",
       "5495   semi-furnished  \n",
       "5496        furnished  \n",
       "5497      unfurnished  \n",
       "5498   semi-furnished  \n",
       "\n",
       "[5499 rows x 13 columns]"
      ]
     },
     "execution_count": 3,
     "metadata": {},
     "output_type": "execute_result"
    }
   ],
   "source": [
    "df"
   ]
  },
  {
   "cell_type": "code",
   "execution_count": 4,
   "id": "37cb915d",
   "metadata": {},
   "outputs": [
    {
     "name": "stdout",
     "output_type": "stream",
     "text": [
      "<class 'pandas.core.frame.DataFrame'>\n",
      "RangeIndex: 5499 entries, 0 to 5498\n",
      "Data columns (total 13 columns):\n",
      " #   Column            Non-Null Count  Dtype \n",
      "---  ------            --------------  ----- \n",
      " 0   price             5499 non-null   int64 \n",
      " 1   area              5499 non-null   int64 \n",
      " 2   bedrooms          5499 non-null   int64 \n",
      " 3   bathrooms         5499 non-null   int64 \n",
      " 4   stories           5499 non-null   int64 \n",
      " 5   mainroad          5499 non-null   object\n",
      " 6   guestroom         5499 non-null   object\n",
      " 7   basement          5499 non-null   object\n",
      " 8   hotwaterheating   5499 non-null   object\n",
      " 9   airconditioning   5499 non-null   object\n",
      " 10  parking           5499 non-null   int64 \n",
      " 11  prefarea          5499 non-null   object\n",
      " 12  furnishingstatus  5499 non-null   object\n",
      "dtypes: int64(6), object(7)\n",
      "memory usage: 558.6+ KB\n"
     ]
    }
   ],
   "source": [
    "df.info()"
   ]
  },
  {
   "cell_type": "code",
   "execution_count": 5,
   "id": "b7b33a27",
   "metadata": {},
   "outputs": [
    {
     "data": {
      "text/html": [
       "<div>\n",
       "<style scoped>\n",
       "    .dataframe tbody tr th:only-of-type {\n",
       "        vertical-align: middle;\n",
       "    }\n",
       "\n",
       "    .dataframe tbody tr th {\n",
       "        vertical-align: top;\n",
       "    }\n",
       "\n",
       "    .dataframe thead th {\n",
       "        text-align: right;\n",
       "    }\n",
       "</style>\n",
       "<table border=\"1\" class=\"dataframe\">\n",
       "  <thead>\n",
       "    <tr style=\"text-align: right;\">\n",
       "      <th></th>\n",
       "      <th>price</th>\n",
       "      <th>area</th>\n",
       "      <th>bedrooms</th>\n",
       "      <th>bathrooms</th>\n",
       "      <th>stories</th>\n",
       "      <th>parking</th>\n",
       "    </tr>\n",
       "  </thead>\n",
       "  <tbody>\n",
       "    <tr>\n",
       "      <th>count</th>\n",
       "      <td>5.499000e+03</td>\n",
       "      <td>5499.000000</td>\n",
       "      <td>5499.000000</td>\n",
       "      <td>5499.000000</td>\n",
       "      <td>5499.000000</td>\n",
       "      <td>5499.000000</td>\n",
       "    </tr>\n",
       "    <tr>\n",
       "      <th>mean</th>\n",
       "      <td>4.924443e+06</td>\n",
       "      <td>5086.227496</td>\n",
       "      <td>3.037643</td>\n",
       "      <td>1.371522</td>\n",
       "      <td>1.816694</td>\n",
       "      <td>0.711948</td>\n",
       "    </tr>\n",
       "    <tr>\n",
       "      <th>std</th>\n",
       "      <td>2.103681e+06</td>\n",
       "      <td>2295.308014</td>\n",
       "      <td>0.799146</td>\n",
       "      <td>0.609131</td>\n",
       "      <td>0.859673</td>\n",
       "      <td>0.872744</td>\n",
       "    </tr>\n",
       "    <tr>\n",
       "      <th>min</th>\n",
       "      <td>1.257500e+06</td>\n",
       "      <td>1650.000000</td>\n",
       "      <td>1.000000</td>\n",
       "      <td>1.000000</td>\n",
       "      <td>1.000000</td>\n",
       "      <td>0.000000</td>\n",
       "    </tr>\n",
       "    <tr>\n",
       "      <th>25%</th>\n",
       "      <td>3.430000e+06</td>\n",
       "      <td>3500.000000</td>\n",
       "      <td>3.000000</td>\n",
       "      <td>1.000000</td>\n",
       "      <td>1.000000</td>\n",
       "      <td>0.000000</td>\n",
       "    </tr>\n",
       "    <tr>\n",
       "      <th>50%</th>\n",
       "      <td>4.410000e+06</td>\n",
       "      <td>4500.000000</td>\n",
       "      <td>3.000000</td>\n",
       "      <td>1.000000</td>\n",
       "      <td>2.000000</td>\n",
       "      <td>0.000000</td>\n",
       "    </tr>\n",
       "    <tr>\n",
       "      <th>75%</th>\n",
       "      <td>5.950000e+06</td>\n",
       "      <td>6360.000000</td>\n",
       "      <td>3.000000</td>\n",
       "      <td>2.000000</td>\n",
       "      <td>2.000000</td>\n",
       "      <td>1.000000</td>\n",
       "    </tr>\n",
       "    <tr>\n",
       "      <th>max</th>\n",
       "      <td>2.330000e+07</td>\n",
       "      <td>16200.000000</td>\n",
       "      <td>6.000000</td>\n",
       "      <td>4.000000</td>\n",
       "      <td>4.000000</td>\n",
       "      <td>3.000000</td>\n",
       "    </tr>\n",
       "  </tbody>\n",
       "</table>\n",
       "</div>"
      ],
      "text/plain": [
       "              price          area     bedrooms    bathrooms      stories  \\\n",
       "count  5.499000e+03   5499.000000  5499.000000  5499.000000  5499.000000   \n",
       "mean   4.924443e+06   5086.227496     3.037643     1.371522     1.816694   \n",
       "std    2.103681e+06   2295.308014     0.799146     0.609131     0.859673   \n",
       "min    1.257500e+06   1650.000000     1.000000     1.000000     1.000000   \n",
       "25%    3.430000e+06   3500.000000     3.000000     1.000000     1.000000   \n",
       "50%    4.410000e+06   4500.000000     3.000000     1.000000     2.000000   \n",
       "75%    5.950000e+06   6360.000000     3.000000     2.000000     2.000000   \n",
       "max    2.330000e+07  16200.000000     6.000000     4.000000     4.000000   \n",
       "\n",
       "           parking  \n",
       "count  5499.000000  \n",
       "mean      0.711948  \n",
       "std       0.872744  \n",
       "min       0.000000  \n",
       "25%       0.000000  \n",
       "50%       0.000000  \n",
       "75%       1.000000  \n",
       "max       3.000000  "
      ]
     },
     "execution_count": 5,
     "metadata": {},
     "output_type": "execute_result"
    }
   ],
   "source": [
    "df.describe()"
   ]
  },
  {
   "cell_type": "code",
   "execution_count": 6,
   "id": "cf6085a2",
   "metadata": {},
   "outputs": [
    {
     "data": {
      "text/plain": [
       "(5499, 13)"
      ]
     },
     "execution_count": 6,
     "metadata": {},
     "output_type": "execute_result"
    }
   ],
   "source": [
    "df.shape"
   ]
  },
  {
   "cell_type": "code",
   "execution_count": 7,
   "id": "8652ae6f",
   "metadata": {},
   "outputs": [
    {
     "data": {
      "text/plain": [
       "price               0\n",
       "area                0\n",
       "bedrooms            0\n",
       "bathrooms           0\n",
       "stories             0\n",
       "mainroad            0\n",
       "guestroom           0\n",
       "basement            0\n",
       "hotwaterheating     0\n",
       "airconditioning     0\n",
       "parking             0\n",
       "prefarea            0\n",
       "furnishingstatus    0\n",
       "dtype: int64"
      ]
     },
     "execution_count": 7,
     "metadata": {},
     "output_type": "execute_result"
    }
   ],
   "source": [
    "df.isnull().sum()"
   ]
  },
  {
   "cell_type": "code",
   "execution_count": 8,
   "id": "f0d836a8",
   "metadata": {},
   "outputs": [
    {
     "data": {
      "text/plain": [
       "price                int64\n",
       "area                 int64\n",
       "bedrooms             int64\n",
       "bathrooms            int64\n",
       "stories              int64\n",
       "mainroad            object\n",
       "guestroom           object\n",
       "basement            object\n",
       "hotwaterheating     object\n",
       "airconditioning     object\n",
       "parking              int64\n",
       "prefarea            object\n",
       "furnishingstatus    object\n",
       "dtype: object"
      ]
     },
     "execution_count": 8,
     "metadata": {},
     "output_type": "execute_result"
    }
   ],
   "source": [
    "df.dtypes"
   ]
  },
  {
   "cell_type": "code",
   "execution_count": 9,
   "id": "f3278329",
   "metadata": {},
   "outputs": [
    {
     "data": {
      "text/plain": [
       "Index(['price', 'area', 'bedrooms', 'bathrooms', 'stories', 'mainroad',\n",
       "       'guestroom', 'basement', 'hotwaterheating', 'airconditioning',\n",
       "       'parking', 'prefarea', 'furnishingstatus'],\n",
       "      dtype='object')"
      ]
     },
     "execution_count": 9,
     "metadata": {},
     "output_type": "execute_result"
    }
   ],
   "source": [
    "df.columns"
   ]
  },
  {
   "cell_type": "markdown",
   "id": "03908200",
   "metadata": {},
   "source": [
    "# VISUALIZATION"
   ]
  },
  {
   "cell_type": "code",
   "execution_count": 10,
   "id": "48292d37",
   "metadata": {},
   "outputs": [
    {
     "data": {
      "image/png": "[encoded data removed]",
      "text/plain": [
       "<Figure size 400x400 with 1 Axes>"
      ]
     },
     "metadata": {},
     "output_type": "display_data"
    }
   ],
   "source": [
    "# Price visualization\n",
    "plt.figure(figsize=(4, 4))\n",
    "plt.hist(df['price'], bins=20, color='Darkblue', edgecolor='Black')\n",
    "plt.title('Distribution of Property Prices')\n",
    "plt.xlabel('Price')\n",
    "plt.ylabel('Frequency')\n",
    "plt.grid(False)\n",
    "plt.show()"
   ]
  },
  {
   "cell_type": "code",
   "execution_count": 11,
   "id": "663e36d8",
   "metadata": {},
   "outputs": [
    {
     "data": {
      "image/png": "[encoded data removed]",
      "text/plain": [
       "<Figure size 400x400 with 1 Axes>"
      ]
     },
     "metadata": {},
     "output_type": "display_data"
    }
   ],
   "source": [
    "# Binary features visualization with pie charts\n",
    "binary_features = ['mainroad']\n",
    "for feature in binary_features:\n",
    "    plt.figure(figsize=(4, 4))\n",
    "    feature_counts = df[feature].value_counts()\n",
    "    plt.pie(feature_counts, labels=feature_counts.index, autopct='%1.1f%%', colors=['skyblue', 'salmon'])\n",
    "    plt.title(f' Presence of {feature}')\n",
    "    plt.show() "
   ]
  },
  {
   "cell_type": "code",
   "execution_count": 12,
   "id": "eb208f67",
   "metadata": {},
   "outputs": [
    {
     "data": {
      "image/png": "[encoded data removed]",
      "text/plain": [
       "<Figure size 400x400 with 1 Axes>"
      ]
     },
     "metadata": {},
     "output_type": "display_data"
    }
   ],
   "source": [
    "# Furnishing status visualization with custom colors\n",
    "plt.figure(figsize=(4, 4))\n",
    "# Define custom colors for each category\n",
    "custom_colors = ['lightgreen', 'lightblue', 'lightcoral']\n",
    "# Plot the bar chart with custom colors\n",
    "df['furnishingstatus'].value_counts().plot(kind='bar', color=custom_colors, edgecolor='black')\n",
    "plt.title('Furnishing Status of Properties')\n",
    "plt.xlabel('Furnishing Status')\n",
    "plt.ylabel('Count')\n",
    "plt.show()"
   ]
  },
  {
   "cell_type": "code",
   "execution_count": 13,
   "id": "9d2636d9",
   "metadata": {},
   "outputs": [
    {
     "data": {
      "image/png": "[encoded data removed]",
      "text/plain": [
       "<Figure size 400x400 with 1 Axes>"
      ]
     },
     "metadata": {},
     "output_type": "display_data"
    }
   ],
   "source": [
    "# Create the scatter plot for Price vs. Area\n",
    "plt.figure(figsize=(4, 4))\n",
    "plt.scatter(df['area'], df['price'], color='purple', alpha=0.7, label='Data Points')\n",
    "# Add area plot\n",
    "plt.fill_between(sorted(df['area']), sorted(df['price']), color='yellow', alpha=0.3, label='Area Plot')\n",
    "# Add labels and title\n",
    "plt.title('Price vs. Area')\n",
    "plt.xlabel('Area')\n",
    "plt.ylabel('Price')\n",
    "# Add legend\n",
    "plt.legend()\n",
    "# Display the plot\n",
    "plt.show()\n"
   ]
  },
  {
   "cell_type": "markdown",
   "id": "28a88a62",
   "metadata": {},
   "source": [
    "# ENCODING"
   ]
  },
  {
   "cell_type": "code",
   "execution_count": 14,
   "id": "c5b3195b",
   "metadata": {},
   "outputs": [],
   "source": [
    "from sklearn.preprocessing import OrdinalEncoder"
   ]
  },
  {
   "cell_type": "code",
   "execution_count": 15,
   "id": "c95798ec",
   "metadata": {},
   "outputs": [],
   "source": [
    "df['mainroad']=np.where(df['mainroad'].str.contains('yes'),0,1)"
   ]
  },
  {
   "cell_type": "code",
   "execution_count": 16,
   "id": "b0bfab9b",
   "metadata": {},
   "outputs": [],
   "source": [
    "df['guestroom']=np.where(df['guestroom'].str.contains('yes'),0,1)"
   ]
  },
  {
   "cell_type": "code",
   "execution_count": 17,
   "id": "574b10cb",
   "metadata": {},
   "outputs": [],
   "source": [
    "df['basement']=np.where(df['basement'].str.contains('yes'),0,1)"
   ]
  },
  {
   "cell_type": "code",
   "execution_count": 18,
   "id": "7ebfda49",
   "metadata": {},
   "outputs": [],
   "source": [
    "df['hotwaterheating']=np.where(df['hotwaterheating'].str.contains('yes'),0,1)"
   ]
  },
  {
   "cell_type": "code",
   "execution_count": 19,
   "id": "f17a5ec4",
   "metadata": {},
   "outputs": [],
   "source": [
    "df['airconditioning']=np.where(df['airconditioning'].str.contains('yes'),0,1)"
   ]
  },
  {
   "cell_type": "code",
   "execution_count": 20,
   "id": "a389fad7",
   "metadata": {},
   "outputs": [],
   "source": [
    "df['prefarea']=np.where(df['prefarea'].str.contains('yes'),0,1)"
   ]
  },
  {
   "cell_type": "code",
   "execution_count": 21,
   "id": "511ea937",
   "metadata": {},
   "outputs": [],
   "source": [
    "df['furnishingstatus']=np.where(df['furnishingstatus'].str.contains('yes'),0,1)"
   ]
  },
  {
   "cell_type": "code",
   "execution_count": 22,
   "id": "6bcd01a6",
   "metadata": {},
   "outputs": [
    {
     "data": {
      "text/html": [
       "<div>\n",
       "<style scoped>\n",
       "    .dataframe tbody tr th:only-of-type {\n",
       "        vertical-align: middle;\n",
       "    }\n",
       "\n",
       "    .dataframe tbody tr th {\n",
       "        vertical-align: top;\n",
       "    }\n",
       "\n",
       "    .dataframe thead th {\n",
       "        text-align: right;\n",
       "    }\n",
       "</style>\n",
       "<table border=\"1\" class=\"dataframe\">\n",
       "  <thead>\n",
       "    <tr style=\"text-align: right;\">\n",
       "      <th></th>\n",
       "      <th>price</th>\n",
       "      <th>area</th>\n",
       "      <th>bedrooms</th>\n",
       "      <th>bathrooms</th>\n",
       "      <th>stories</th>\n",
       "      <th>mainroad</th>\n",
       "      <th>guestroom</th>\n",
       "      <th>basement</th>\n",
       "      <th>hotwaterheating</th>\n",
       "      <th>airconditioning</th>\n",
       "      <th>parking</th>\n",
       "      <th>prefarea</th>\n",
       "      <th>furnishingstatus</th>\n",
       "    </tr>\n",
       "  </thead>\n",
       "  <tbody>\n",
       "    <tr>\n",
       "      <th>0</th>\n",
       "      <td>23300000</td>\n",
       "      <td>7420</td>\n",
       "      <td>4</td>\n",
       "      <td>2</td>\n",
       "      <td>3</td>\n",
       "      <td>0</td>\n",
       "      <td>1</td>\n",
       "      <td>1</td>\n",
       "      <td>1</td>\n",
       "      <td>0</td>\n",
       "      <td>2</td>\n",
       "      <td>0</td>\n",
       "      <td>1</td>\n",
       "    </tr>\n",
       "    <tr>\n",
       "      <th>1</th>\n",
       "      <td>12620000</td>\n",
       "      <td>8960</td>\n",
       "      <td>4</td>\n",
       "      <td>4</td>\n",
       "      <td>4</td>\n",
       "      <td>0</td>\n",
       "      <td>1</td>\n",
       "      <td>1</td>\n",
       "      <td>1</td>\n",
       "      <td>0</td>\n",
       "      <td>3</td>\n",
       "      <td>1</td>\n",
       "      <td>1</td>\n",
       "    </tr>\n",
       "    <tr>\n",
       "      <th>2</th>\n",
       "      <td>16250000</td>\n",
       "      <td>9960</td>\n",
       "      <td>3</td>\n",
       "      <td>2</td>\n",
       "      <td>2</td>\n",
       "      <td>0</td>\n",
       "      <td>1</td>\n",
       "      <td>0</td>\n",
       "      <td>1</td>\n",
       "      <td>1</td>\n",
       "      <td>2</td>\n",
       "      <td>0</td>\n",
       "      <td>1</td>\n",
       "    </tr>\n",
       "    <tr>\n",
       "      <th>3</th>\n",
       "      <td>12215000</td>\n",
       "      <td>7500</td>\n",
       "      <td>4</td>\n",
       "      <td>2</td>\n",
       "      <td>2</td>\n",
       "      <td>0</td>\n",
       "      <td>1</td>\n",
       "      <td>0</td>\n",
       "      <td>1</td>\n",
       "      <td>0</td>\n",
       "      <td>3</td>\n",
       "      <td>0</td>\n",
       "      <td>1</td>\n",
       "    </tr>\n",
       "    <tr>\n",
       "      <th>4</th>\n",
       "      <td>11410000</td>\n",
       "      <td>7420</td>\n",
       "      <td>4</td>\n",
       "      <td>1</td>\n",
       "      <td>2</td>\n",
       "      <td>0</td>\n",
       "      <td>0</td>\n",
       "      <td>0</td>\n",
       "      <td>1</td>\n",
       "      <td>0</td>\n",
       "      <td>2</td>\n",
       "      <td>1</td>\n",
       "      <td>1</td>\n",
       "    </tr>\n",
       "    <tr>\n",
       "      <th>...</th>\n",
       "      <td>...</td>\n",
       "      <td>...</td>\n",
       "      <td>...</td>\n",
       "      <td>...</td>\n",
       "      <td>...</td>\n",
       "      <td>...</td>\n",
       "      <td>...</td>\n",
       "      <td>...</td>\n",
       "      <td>...</td>\n",
       "      <td>...</td>\n",
       "      <td>...</td>\n",
       "      <td>...</td>\n",
       "      <td>...</td>\n",
       "    </tr>\n",
       "    <tr>\n",
       "      <th>5494</th>\n",
       "      <td>1855000</td>\n",
       "      <td>2990</td>\n",
       "      <td>2</td>\n",
       "      <td>1</td>\n",
       "      <td>1</td>\n",
       "      <td>1</td>\n",
       "      <td>1</td>\n",
       "      <td>1</td>\n",
       "      <td>1</td>\n",
       "      <td>1</td>\n",
       "      <td>1</td>\n",
       "      <td>1</td>\n",
       "      <td>1</td>\n",
       "    </tr>\n",
       "    <tr>\n",
       "      <th>5495</th>\n",
       "      <td>1767150</td>\n",
       "      <td>2400</td>\n",
       "      <td>3</td>\n",
       "      <td>1</td>\n",
       "      <td>1</td>\n",
       "      <td>1</td>\n",
       "      <td>1</td>\n",
       "      <td>1</td>\n",
       "      <td>1</td>\n",
       "      <td>1</td>\n",
       "      <td>0</td>\n",
       "      <td>1</td>\n",
       "      <td>1</td>\n",
       "    </tr>\n",
       "    <tr>\n",
       "      <th>5496</th>\n",
       "      <td>1455000</td>\n",
       "      <td>2910</td>\n",
       "      <td>3</td>\n",
       "      <td>2</td>\n",
       "      <td>1</td>\n",
       "      <td>1</td>\n",
       "      <td>1</td>\n",
       "      <td>1</td>\n",
       "      <td>1</td>\n",
       "      <td>0</td>\n",
       "      <td>0</td>\n",
       "      <td>1</td>\n",
       "      <td>1</td>\n",
       "    </tr>\n",
       "    <tr>\n",
       "      <th>5497</th>\n",
       "      <td>5600000</td>\n",
       "      <td>4800</td>\n",
       "      <td>5</td>\n",
       "      <td>2</td>\n",
       "      <td>3</td>\n",
       "      <td>1</td>\n",
       "      <td>1</td>\n",
       "      <td>0</td>\n",
       "      <td>0</td>\n",
       "      <td>1</td>\n",
       "      <td>0</td>\n",
       "      <td>1</td>\n",
       "      <td>1</td>\n",
       "    </tr>\n",
       "    <tr>\n",
       "      <th>5498</th>\n",
       "      <td>4340000</td>\n",
       "      <td>1905</td>\n",
       "      <td>4</td>\n",
       "      <td>1</td>\n",
       "      <td>2</td>\n",
       "      <td>1</td>\n",
       "      <td>1</td>\n",
       "      <td>0</td>\n",
       "      <td>1</td>\n",
       "      <td>1</td>\n",
       "      <td>0</td>\n",
       "      <td>1</td>\n",
       "      <td>1</td>\n",
       "    </tr>\n",
       "  </tbody>\n",
       "</table>\n",
       "<p>5499 rows × 13 columns</p>\n",
       "</div>"
      ],
      "text/plain": [
       "         price  area  bedrooms  bathrooms  stories  mainroad  guestroom  \\\n",
       "0     23300000  7420         4          2        3         0          1   \n",
       "1     12620000  8960         4          4        4         0          1   \n",
       "2     16250000  9960         3          2        2         0          1   \n",
       "3     12215000  7500         4          2        2         0          1   \n",
       "4     11410000  7420         4          1        2         0          0   \n",
       "...        ...   ...       ...        ...      ...       ...        ...   \n",
       "5494   1855000  2990         2          1        1         1          1   \n",
       "5495   1767150  2400         3          1        1         1          1   \n",
       "5496   1455000  2910         3          2        1         1          1   \n",
       "5497   5600000  4800         5          2        3         1          1   \n",
       "5498   4340000  1905         4          1        2         1          1   \n",
       "\n",
       "      basement  hotwaterheating  airconditioning  parking  prefarea  \\\n",
       "0            1                1                0        2         0   \n",
       "1            1                1                0        3         1   \n",
       "2            0                1                1        2         0   \n",
       "3            0                1                0        3         0   \n",
       "4            0                1                0        2         1   \n",
       "...        ...              ...              ...      ...       ...   \n",
       "5494         1                1                1        1         1   \n",
       "5495         1                1                1        0         1   \n",
       "5496         1                1                0        0         1   \n",
       "5497         0                0                1        0         1   \n",
       "5498         0                1                1        0         1   \n",
       "\n",
       "      furnishingstatus  \n",
       "0                    1  \n",
       "1                    1  \n",
       "2                    1  \n",
       "3                    1  \n",
       "4                    1  \n",
       "...                ...  \n",
       "5494                 1  \n",
       "5495                 1  \n",
       "5496                 1  \n",
       "5497                 1  \n",
       "5498                 1  \n",
       "\n",
       "[5499 rows x 13 columns]"
      ]
     },
     "execution_count": 22,
     "metadata": {},
     "output_type": "execute_result"
    }
   ],
   "source": [
    "df"
   ]
  },
  {
   "cell_type": "code",
   "execution_count": 23,
   "id": "c4bcdbff",
   "metadata": {},
   "outputs": [],
   "source": [
    "#Model Training\n",
    "X=df.drop(\"price\", axis=1)"
   ]
  },
  {
   "cell_type": "code",
   "execution_count": 24,
   "id": "4885f7b8",
   "metadata": {},
   "outputs": [],
   "source": [
    "y=df[\"price\"]"
   ]
  },
  {
   "cell_type": "code",
   "execution_count": 25,
   "id": "4c592632",
   "metadata": {},
   "outputs": [
    {
     "data": {
      "text/plain": [
       "0       23300000\n",
       "1       12620000\n",
       "2       16250000\n",
       "3       12215000\n",
       "4       11410000\n",
       "          ...   \n",
       "5494     1855000\n",
       "5495     1767150\n",
       "5496     1455000\n",
       "5497     5600000\n",
       "5498     4340000\n",
       "Name: price, Length: 5499, dtype: int64"
      ]
     },
     "execution_count": 25,
     "metadata": {},
     "output_type": "execute_result"
    }
   ],
   "source": [
    "y"
   ]
  },
  {
   "cell_type": "code",
   "execution_count": 26,
   "id": "4636cbb8",
   "metadata": {},
   "outputs": [],
   "source": [
    "from sklearn.model_selection import train_test_split"
   ]
  },
  {
   "cell_type": "code",
   "execution_count": 27,
   "id": "61dc529c",
   "metadata": {},
   "outputs": [],
   "source": [
    "X_train, X_test, y_train, y_test = train_test_split(X, y, test_size=0.20, random_state=42)"
   ]
  },
  {
   "cell_type": "code",
   "execution_count": 28,
   "id": "b8bbe021",
   "metadata": {},
   "outputs": [
    {
     "data": {
      "text/plain": [
       "(4399, 12)"
      ]
     },
     "execution_count": 28,
     "metadata": {},
     "output_type": "execute_result"
    }
   ],
   "source": [
    "X_train.shape"
   ]
  },
  {
   "cell_type": "code",
   "execution_count": 29,
   "id": "dc7a3da0",
   "metadata": {},
   "outputs": [
    {
     "data": {
      "text/plain": [
       "(1100, 12)"
      ]
     },
     "execution_count": 29,
     "metadata": {},
     "output_type": "execute_result"
    }
   ],
   "source": [
    "X_test.shape"
   ]
  },
  {
   "cell_type": "code",
   "execution_count": 30,
   "id": "af77081b",
   "metadata": {},
   "outputs": [
    {
     "data": {
      "text/html": [
       "<div>\n",
       "<style scoped>\n",
       "    .dataframe tbody tr th:only-of-type {\n",
       "        vertical-align: middle;\n",
       "    }\n",
       "\n",
       "    .dataframe tbody tr th {\n",
       "        vertical-align: top;\n",
       "    }\n",
       "\n",
       "    .dataframe thead th {\n",
       "        text-align: right;\n",
       "    }\n",
       "</style>\n",
       "<table border=\"1\" class=\"dataframe\">\n",
       "  <thead>\n",
       "    <tr style=\"text-align: right;\">\n",
       "      <th></th>\n",
       "      <th>area</th>\n",
       "      <th>bedrooms</th>\n",
       "      <th>bathrooms</th>\n",
       "      <th>stories</th>\n",
       "      <th>mainroad</th>\n",
       "      <th>guestroom</th>\n",
       "      <th>basement</th>\n",
       "      <th>hotwaterheating</th>\n",
       "      <th>airconditioning</th>\n",
       "      <th>parking</th>\n",
       "      <th>prefarea</th>\n",
       "      <th>furnishingstatus</th>\n",
       "    </tr>\n",
       "  </thead>\n",
       "  <tbody>\n",
       "    <tr>\n",
       "      <th>area</th>\n",
       "      <td>1.000000</td>\n",
       "      <td>0.171498</td>\n",
       "      <td>0.171912</td>\n",
       "      <td>0.078002</td>\n",
       "      <td>-0.314285</td>\n",
       "      <td>-0.120781</td>\n",
       "      <td>-0.030135</td>\n",
       "      <td>0.033386</td>\n",
       "      <td>-0.196246</td>\n",
       "      <td>0.304438</td>\n",
       "      <td>-0.183907</td>\n",
       "      <td>NaN</td>\n",
       "    </tr>\n",
       "    <tr>\n",
       "      <th>bedrooms</th>\n",
       "      <td>0.171498</td>\n",
       "      <td>1.000000</td>\n",
       "      <td>0.449861</td>\n",
       "      <td>0.406798</td>\n",
       "      <td>0.000963</td>\n",
       "      <td>-0.066673</td>\n",
       "      <td>-0.093956</td>\n",
       "      <td>-0.097900</td>\n",
       "      <td>-0.145017</td>\n",
       "      <td>0.149833</td>\n",
       "      <td>-0.059563</td>\n",
       "      <td>NaN</td>\n",
       "    </tr>\n",
       "    <tr>\n",
       "      <th>bathrooms</th>\n",
       "      <td>0.171912</td>\n",
       "      <td>0.449861</td>\n",
       "      <td>1.000000</td>\n",
       "      <td>0.314871</td>\n",
       "      <td>-0.044386</td>\n",
       "      <td>-0.102649</td>\n",
       "      <td>-0.071234</td>\n",
       "      <td>-0.086858</td>\n",
       "      <td>-0.149811</td>\n",
       "      <td>0.205259</td>\n",
       "      <td>-0.072330</td>\n",
       "      <td>NaN</td>\n",
       "    </tr>\n",
       "    <tr>\n",
       "      <th>stories</th>\n",
       "      <td>0.078002</td>\n",
       "      <td>0.406798</td>\n",
       "      <td>0.314871</td>\n",
       "      <td>1.000000</td>\n",
       "      <td>-0.139137</td>\n",
       "      <td>-0.055800</td>\n",
       "      <td>0.162582</td>\n",
       "      <td>-0.032042</td>\n",
       "      <td>-0.292758</td>\n",
       "      <td>0.074611</td>\n",
       "      <td>-0.056379</td>\n",
       "      <td>NaN</td>\n",
       "    </tr>\n",
       "    <tr>\n",
       "      <th>mainroad</th>\n",
       "      <td>-0.314285</td>\n",
       "      <td>0.000963</td>\n",
       "      <td>-0.044386</td>\n",
       "      <td>-0.139137</td>\n",
       "      <td>1.000000</td>\n",
       "      <td>0.116855</td>\n",
       "      <td>0.063539</td>\n",
       "      <td>-0.056513</td>\n",
       "      <td>0.127085</td>\n",
       "      <td>-0.240854</td>\n",
       "      <td>0.219558</td>\n",
       "      <td>NaN</td>\n",
       "    </tr>\n",
       "    <tr>\n",
       "      <th>guestroom</th>\n",
       "      <td>-0.120781</td>\n",
       "      <td>-0.066673</td>\n",
       "      <td>-0.102649</td>\n",
       "      <td>-0.055800</td>\n",
       "      <td>0.116855</td>\n",
       "      <td>1.000000</td>\n",
       "      <td>0.365881</td>\n",
       "      <td>0.012845</td>\n",
       "      <td>0.140625</td>\n",
       "      <td>-0.057235</td>\n",
       "      <td>0.146842</td>\n",
       "      <td>NaN</td>\n",
       "    </tr>\n",
       "    <tr>\n",
       "      <th>basement</th>\n",
       "      <td>-0.030135</td>\n",
       "      <td>-0.093956</td>\n",
       "      <td>-0.071234</td>\n",
       "      <td>0.162582</td>\n",
       "      <td>0.063539</td>\n",
       "      <td>0.365881</td>\n",
       "      <td>1.000000</td>\n",
       "      <td>0.033769</td>\n",
       "      <td>0.046593</td>\n",
       "      <td>-0.083080</td>\n",
       "      <td>0.221864</td>\n",
       "      <td>NaN</td>\n",
       "    </tr>\n",
       "    <tr>\n",
       "      <th>hotwaterheating</th>\n",
       "      <td>0.033386</td>\n",
       "      <td>-0.097900</td>\n",
       "      <td>-0.086858</td>\n",
       "      <td>-0.032042</td>\n",
       "      <td>-0.056513</td>\n",
       "      <td>0.012845</td>\n",
       "      <td>0.033769</td>\n",
       "      <td>1.000000</td>\n",
       "      <td>-0.140566</td>\n",
       "      <td>-0.083469</td>\n",
       "      <td>-0.091458</td>\n",
       "      <td>NaN</td>\n",
       "    </tr>\n",
       "    <tr>\n",
       "      <th>airconditioning</th>\n",
       "      <td>-0.196246</td>\n",
       "      <td>-0.145017</td>\n",
       "      <td>-0.149811</td>\n",
       "      <td>-0.292758</td>\n",
       "      <td>0.127085</td>\n",
       "      <td>0.140625</td>\n",
       "      <td>0.046593</td>\n",
       "      <td>-0.140566</td>\n",
       "      <td>1.000000</td>\n",
       "      <td>-0.200599</td>\n",
       "      <td>0.188399</td>\n",
       "      <td>NaN</td>\n",
       "    </tr>\n",
       "    <tr>\n",
       "      <th>parking</th>\n",
       "      <td>0.304438</td>\n",
       "      <td>0.149833</td>\n",
       "      <td>0.205259</td>\n",
       "      <td>0.074611</td>\n",
       "      <td>-0.240854</td>\n",
       "      <td>-0.057235</td>\n",
       "      <td>-0.083080</td>\n",
       "      <td>-0.083469</td>\n",
       "      <td>-0.200599</td>\n",
       "      <td>1.000000</td>\n",
       "      <td>-0.124217</td>\n",
       "      <td>NaN</td>\n",
       "    </tr>\n",
       "    <tr>\n",
       "      <th>prefarea</th>\n",
       "      <td>-0.183907</td>\n",
       "      <td>-0.059563</td>\n",
       "      <td>-0.072330</td>\n",
       "      <td>-0.056379</td>\n",
       "      <td>0.219558</td>\n",
       "      <td>0.146842</td>\n",
       "      <td>0.221864</td>\n",
       "      <td>-0.091458</td>\n",
       "      <td>0.188399</td>\n",
       "      <td>-0.124217</td>\n",
       "      <td>1.000000</td>\n",
       "      <td>NaN</td>\n",
       "    </tr>\n",
       "    <tr>\n",
       "      <th>furnishingstatus</th>\n",
       "      <td>NaN</td>\n",
       "      <td>NaN</td>\n",
       "      <td>NaN</td>\n",
       "      <td>NaN</td>\n",
       "      <td>NaN</td>\n",
       "      <td>NaN</td>\n",
       "      <td>NaN</td>\n",
       "      <td>NaN</td>\n",
       "      <td>NaN</td>\n",
       "      <td>NaN</td>\n",
       "      <td>NaN</td>\n",
       "      <td>NaN</td>\n",
       "    </tr>\n",
       "  </tbody>\n",
       "</table>\n",
       "</div>"
      ],
      "text/plain": [
       "                      area  bedrooms  bathrooms   stories  mainroad  \\\n",
       "area              1.000000  0.171498   0.171912  0.078002 -0.314285   \n",
       "bedrooms          0.171498  1.000000   0.449861  0.406798  0.000963   \n",
       "bathrooms         0.171912  0.449861   1.000000  0.314871 -0.044386   \n",
       "stories           0.078002  0.406798   0.314871  1.000000 -0.139137   \n",
       "mainroad         -0.314285  0.000963  -0.044386 -0.139137  1.000000   \n",
       "guestroom        -0.120781 -0.066673  -0.102649 -0.055800  0.116855   \n",
       "basement         -0.030135 -0.093956  -0.071234  0.162582  0.063539   \n",
       "hotwaterheating   0.033386 -0.097900  -0.086858 -0.032042 -0.056513   \n",
       "airconditioning  -0.196246 -0.145017  -0.149811 -0.292758  0.127085   \n",
       "parking           0.304438  0.149833   0.205259  0.074611 -0.240854   \n",
       "prefarea         -0.183907 -0.059563  -0.072330 -0.056379  0.219558   \n",
       "furnishingstatus       NaN       NaN        NaN       NaN       NaN   \n",
       "\n",
       "                  guestroom  basement  hotwaterheating  airconditioning  \\\n",
       "area              -0.120781 -0.030135         0.033386        -0.196246   \n",
       "bedrooms          -0.066673 -0.093956        -0.097900        -0.145017   \n",
       "bathrooms         -0.102649 -0.071234        -0.086858        -0.149811   \n",
       "stories           -0.055800  0.162582        -0.032042        -0.292758   \n",
       "mainroad           0.116855  0.063539        -0.056513         0.127085   \n",
       "guestroom          1.000000  0.365881         0.012845         0.140625   \n",
       "basement           0.365881  1.000000         0.033769         0.046593   \n",
       "hotwaterheating    0.012845  0.033769         1.000000        -0.140566   \n",
       "airconditioning    0.140625  0.046593        -0.140566         1.000000   \n",
       "parking           -0.057235 -0.083080        -0.083469        -0.200599   \n",
       "prefarea           0.146842  0.221864        -0.091458         0.188399   \n",
       "furnishingstatus        NaN       NaN              NaN              NaN   \n",
       "\n",
       "                   parking  prefarea  furnishingstatus  \n",
       "area              0.304438 -0.183907               NaN  \n",
       "bedrooms          0.149833 -0.059563               NaN  \n",
       "bathrooms         0.205259 -0.072330               NaN  \n",
       "stories           0.074611 -0.056379               NaN  \n",
       "mainroad         -0.240854  0.219558               NaN  \n",
       "guestroom        -0.057235  0.146842               NaN  \n",
       "basement         -0.083080  0.221864               NaN  \n",
       "hotwaterheating  -0.083469 -0.091458               NaN  \n",
       "airconditioning  -0.200599  0.188399               NaN  \n",
       "parking           1.000000 -0.124217               NaN  \n",
       "prefarea         -0.124217  1.000000               NaN  \n",
       "furnishingstatus       NaN       NaN               NaN  "
      ]
     },
     "execution_count": 30,
     "metadata": {},
     "output_type": "execute_result"
    }
   ],
   "source": [
    "X_train.corr()"
   ]
  },
  {
   "cell_type": "code",
   "execution_count": 31,
   "id": "5f6deddf",
   "metadata": {},
   "outputs": [
    {
     "data": {
      "text/plain": [
       "<Axes: >"
      ]
     },
     "execution_count": 31,
     "metadata": {},
     "output_type": "execute_result"
    },
    {
     "data": {
      "image/png": "[encoded data removed]",
      "text/plain": [
       "<Figure size 1000x500 with 2 Axes>"
      ]
     },
     "metadata": {},
     "output_type": "display_data"
    }
   ],
   "source": [
    "plt.figure(figsize=(10,5))\n",
    "sns.heatmap(X_train.corr(),annot=True)"
   ]
  },
  {
   "cell_type": "code",
   "execution_count": 32,
   "id": "8b56136e",
   "metadata": {},
   "outputs": [],
   "source": [
    "def correlation(dataset, threshold):\n",
    "    col_corr = set()\n",
    "    corr_matrix = dataset.corr()\n",
    "    for i in range(len(corr_matrix.columns)):\n",
    "        for j in range(i):\n",
    "            if abs(corr_matrix.iloc[i, j]) > threshold:\n",
    "                colname = corr_matrix.columns[i]\n",
    "                col_corr.add(colname)\n",
    "    return col_corr"
   ]
  },
  {
   "cell_type": "code",
   "execution_count": 33,
   "id": "70999f46",
   "metadata": {},
   "outputs": [],
   "source": [
    "corr_features=correlation(X_train,0.75)"
   ]
  },
  {
   "cell_type": "code",
   "execution_count": 34,
   "id": "024fa587",
   "metadata": {},
   "outputs": [
    {
     "data": {
      "text/plain": [
       "set()"
      ]
     },
     "execution_count": 34,
     "metadata": {},
     "output_type": "execute_result"
    }
   ],
   "source": [
    "corr_features # This means there are no features that have multicollinearity"
   ]
  },
  {
   "cell_type": "code",
   "execution_count": 35,
   "id": "75b700bf",
   "metadata": {},
   "outputs": [],
   "source": [
    "from sklearn.preprocessing import StandardScaler"
   ]
  },
  {
   "cell_type": "code",
   "execution_count": 36,
   "id": "df4637f3",
   "metadata": {},
   "outputs": [],
   "source": [
    "sd=StandardScaler()"
   ]
  },
  {
   "cell_type": "code",
   "execution_count": 37,
   "id": "96ef0cec",
   "metadata": {},
   "outputs": [
    {
     "data": {
      "text/plain": [
       "Index(['area', 'bedrooms', 'bathrooms', 'stories', 'mainroad', 'guestroom',\n",
       "       'basement', 'hotwaterheating', 'airconditioning', 'parking', 'prefarea',\n",
       "       'furnishingstatus'],\n",
       "      dtype='object')"
      ]
     },
     "execution_count": 37,
     "metadata": {},
     "output_type": "execute_result"
    }
   ],
   "source": [
    "X_train.columns"
   ]
  },
  {
   "cell_type": "code",
   "execution_count": 38,
   "id": "9fd3897c",
   "metadata": {},
   "outputs": [],
   "source": [
    "X_train=sd.fit_transform(X_train)\n",
    "X_test=sd.transform(X_test)"
   ]
  },
  {
   "cell_type": "code",
   "execution_count": 39,
   "id": "d1f135aa",
   "metadata": {},
   "outputs": [],
   "source": [
    "# Running all Regression algorithms to find which one works best\n",
    "from sklearn.linear_model import LinearRegression\n",
    "from sklearn.tree import DecisionTreeRegressor\n",
    "from sklearn.ensemble import RandomForestRegressor\n",
    "from sklearn.neighbors import KNeighborsRegressor\n",
    "from sklearn.svm import SVR\n",
    "from sklearn.linear_model import Ridge\n",
    "from sklearn.ensemble import AdaBoostRegressor\n",
    "from sklearn.ensemble import GradientBoostingRegressor\n",
    "import xgboost as xgb"
   ]
  },
  {
   "cell_type": "code",
   "execution_count": 40,
   "id": "88f03edf",
   "metadata": {},
   "outputs": [],
   "source": [
    "# creating objects for the above \n",
    "lr=LinearRegression()\n",
    "dtr=DecisionTreeRegressor()\n",
    "rfr=RandomForestRegressor()\n",
    "knr=KNeighborsRegressor()\n",
    "svr=SVR()\n",
    "r=Ridge()\n",
    "abr = AdaBoostRegressor()\n",
    "gbr = GradientBoostingRegressor()\n",
    "xgbr = xgb.XGBRegressor()"
   ]
  },
  {
   "cell_type": "code",
   "execution_count": 41,
   "id": "1c212767",
   "metadata": {},
   "outputs": [],
   "source": [
    "from sklearn.metrics import r2_score, mean_absolute_error, mean_squared_error"
   ]
  },
  {
   "cell_type": "code",
   "execution_count": 42,
   "id": "016d4625",
   "metadata": {},
   "outputs": [
    {
     "name": "stdout",
     "output_type": "stream",
     "text": [
      "Linear Regression\n",
      "r2_Score is 62.54588796763451\n",
      "                                                                                                                        \n",
      "========================================================================================================================\n",
      "Decision Tree Regressor\n",
      "r2_Score is 95.73339501868332\n",
      "                                                                                                                        \n",
      "========================================================================================================================\n",
      "Random Forest Regressor\n",
      "r2_Score is 95.71924692023777\n",
      "                                                                                                                        \n",
      "========================================================================================================================\n",
      "K Neighbors Regressor\n",
      "r2_Score is 94.11063459663055\n",
      "                                                                                                                        \n",
      "========================================================================================================================\n",
      "Ridge\n",
      "r2_Score is 62.54625495797129\n",
      "                                                                                                                        \n",
      "========================================================================================================================\n",
      "Ada Boost Regressor\n",
      "r2_Score is 46.57109062412974\n",
      "                                                                                                                        \n",
      "========================================================================================================================\n",
      "Gradient Boosting Regressor\n",
      "r2_Score is 79.05573790626941\n",
      "                                                                                                                        \n",
      "========================================================================================================================\n",
      "XG Boost Regressor\n",
      "r2_Score is 95.36400957346048\n",
      "                                                                                                                        \n",
      "========================================================================================================================\n",
      "Support Vector Regressor\n",
      "r2_Score is -5.498664502325212\n",
      "                                                                                                                        \n",
      "========================================================================================================================\n"
     ]
    }
   ],
   "source": [
    "algos = [lr, dtr, rfr, knr, r, abr, gbr, xgbr,svr]\n",
    "\n",
    "names = [\"Linear Regression\" , \"Decision Tree Regressor\" , \"Random Forest Regressor\" , \"K Neighbors Regressor\" , \"Ridge\" , \"Ada Boost Regressor\", \"Gradient Boosting Regressor\", \"XG Boost Regressor\",\"Support Vector Regressor\"]\n",
    "\n",
    "for i,j in zip(algos,names):\n",
    "  i.fit(X_train,y_train)\n",
    "  y_pred = i.predict(X_test)\n",
    "  print(j)\n",
    "  print(\"r2_Score is {}\".format(r2_score(y_test,y_pred) * 100))\n",
    "  print(\"   \" * 40)\n",
    "  print(\"===\" * 40)\n",
    " "
   ]
  },
  {
   "cell_type": "code",
   "execution_count": 43,
   "id": "81a01e95",
   "metadata": {},
   "outputs": [],
   "source": [
    "from sklearn.model_selection import GridSearchCV\n",
    "import warnings\n",
    "warnings.filterwarnings(\"ignore\")"
   ]
  },
  {
   "cell_type": "code",
   "execution_count": 44,
   "id": "7d137377",
   "metadata": {},
   "outputs": [],
   "source": [
    "parameter = {'n_estimators': [100, 200, 300],\n",
    "    'max_depth': [None, 10, 20],\n",
    "    'min_samples_split': [2, 5, 10],\n",
    "    'min_samples_leaf': [1, 2, 4]\n",
    "            }"
   ]
  },
  {
   "cell_type": "code",
   "execution_count": 45,
   "id": "b0c54488",
   "metadata": {},
   "outputs": [],
   "source": [
    "clf = GridSearchCV(rfr, parameter, scoring=\"r2\",cv=5)"
   ]
  },
  {
   "cell_type": "code",
   "execution_count": 46,
   "id": "32f3e677",
   "metadata": {},
   "outputs": [
    {
     "data": {
      "text/html": [
       "<style>#sk-container-id-1 {color: black;background-color: white;}#sk-container-id-1 pre{padding: 0;}#sk-container-id-1 div.sk-toggleable {background-color: white;}#sk-container-id-1 label.sk-toggleable__label {cursor: pointer;display: block;width: 100%;margin-bottom: 0;padding: 0.3em;box-sizing: border-box;text-align: center;}#sk-container-id-1 label.sk-toggleable__label-arrow:before {content: \"▸\";float: left;margin-right: 0.25em;color: #696969;}#sk-container-id-1 label.sk-toggleable__label-arrow:hover:before {color: black;}#sk-container-id-1 div.sk-estimator:hover label.sk-toggleable__label-arrow:before {color: black;}#sk-container-id-1 div.sk-toggleable__content {max-height: 0;max-width: 0;overflow: hidden;text-align: left;background-color: #f0f8ff;}#sk-container-id-1 div.sk-toggleable__content pre {margin: 0.2em;color: black;border-radius: 0.25em;background-color: #f0f8ff;}#sk-container-id-1 input.sk-toggleable__control:checked~div.sk-toggleable__content {max-height: 200px;max-width: 100%;overflow: auto;}#sk-container-id-1 input.sk-toggleable__control:checked~label.sk-toggleable__label-arrow:before {content: \"▾\";}#sk-container-id-1 div.sk-estimator input.sk-toggleable__control:checked~label.sk-toggleable__label {background-color: #d4ebff;}#sk-container-id-1 div.sk-label input.sk-toggleable__control:checked~label.sk-toggleable__label {background-color: #d4ebff;}#sk-container-id-1 input.sk-hidden--visually {border: 0;clip: rect(1px 1px 1px 1px);clip: rect(1px, 1px, 1px, 1px);height: 1px;margin: -1px;overflow: hidden;padding: 0;position: absolute;width: 1px;}#sk-container-id-1 div.sk-estimator {font-family: monospace;background-color: #f0f8ff;border: 1px dotted black;border-radius: 0.25em;box-sizing: border-box;margin-bottom: 0.5em;}#sk-container-id-1 div.sk-estimator:hover {background-color: #d4ebff;}#sk-container-id-1 div.sk-parallel-item::after {content: \"\";width: 100%;border-bottom: 1px solid gray;flex-grow: 1;}#sk-container-id-1 div.sk-label:hover label.sk-toggleable__label {background-color: #d4ebff;}#sk-container-id-1 div.sk-serial::before {content: \"\";position: absolute;border-left: 1px solid gray;box-sizing: border-box;top: 0;bottom: 0;left: 50%;z-index: 0;}#sk-container-id-1 div.sk-serial {display: flex;flex-direction: column;align-items: center;background-color: white;padding-right: 0.2em;padding-left: 0.2em;position: relative;}#sk-container-id-1 div.sk-item {position: relative;z-index: 1;}#sk-container-id-1 div.sk-parallel {display: flex;align-items: stretch;justify-content: center;background-color: white;position: relative;}#sk-container-id-1 div.sk-item::before, #sk-container-id-1 div.sk-parallel-item::before {content: \"\";position: absolute;border-left: 1px solid gray;box-sizing: border-box;top: 0;bottom: 0;left: 50%;z-index: -1;}#sk-container-id-1 div.sk-parallel-item {display: flex;flex-direction: column;z-index: 1;position: relative;background-color: white;}#sk-container-id-1 div.sk-parallel-item:first-child::after {align-self: flex-end;width: 50%;}#sk-container-id-1 div.sk-parallel-item:last-child::after {align-self: flex-start;width: 50%;}#sk-container-id-1 div.sk-parallel-item:only-child::after {width: 0;}#sk-container-id-1 div.sk-dashed-wrapped {border: 1px dashed gray;margin: 0 0.4em 0.5em 0.4em;box-sizing: border-box;padding-bottom: 0.4em;background-color: white;}#sk-container-id-1 div.sk-label label {font-family: monospace;font-weight: bold;display: inline-block;line-height: 1.2em;}#sk-container-id-1 div.sk-label-container {text-align: center;}#sk-container-id-1 div.sk-container {/* jupyter's `normalize.less` sets `[hidden] { display: none; }` but bootstrap.min.css set `[hidden] { display: none !important; }` so we also need the `!important` here to be able to override the default hidden behavior on the sphinx rendered scikit-learn.org. See: https://github.com/scikit-learn/scikit-learn/issues/21755 */display: inline-block !important;position: relative;}#sk-container-id-1 div.sk-text-repr-fallback {display: none;}</style><div id=\"sk-container-id-1\" class=\"sk-top-container\"><div class=\"sk-text-repr-fallback\"><pre>GridSearchCV(cv=5, estimator=RandomForestRegressor(),\n",
       "             param_grid={&#x27;max_depth&#x27;: [None, 10, 20],\n",
       "                         &#x27;min_samples_leaf&#x27;: [1, 2, 4],\n",
       "                         &#x27;min_samples_split&#x27;: [2, 5, 10],\n",
       "                         &#x27;n_estimators&#x27;: [100, 200, 300]},\n",
       "             scoring=&#x27;r2&#x27;)</pre><b>In a Jupyter environment, please rerun this cell to show the HTML representation or trust the notebook. <br />On GitHub, the HTML representation is unable to render, please try loading this page with nbviewer.org.</b></div><div class=\"sk-container\" hidden><div class=\"sk-item sk-dashed-wrapped\"><div class=\"sk-label-container\"><div class=\"sk-label sk-toggleable\"><input class=\"sk-toggleable__control sk-hidden--visually\" id=\"sk-estimator-id-1\" type=\"checkbox\" ><label for=\"sk-estimator-id-1\" class=\"sk-toggleable__label sk-toggleable__label-arrow\">GridSearchCV</label><div class=\"sk-toggleable__content\"><pre>GridSearchCV(cv=5, estimator=RandomForestRegressor(),\n",
       "             param_grid={&#x27;max_depth&#x27;: [None, 10, 20],\n",
       "                         &#x27;min_samples_leaf&#x27;: [1, 2, 4],\n",
       "                         &#x27;min_samples_split&#x27;: [2, 5, 10],\n",
       "                         &#x27;n_estimators&#x27;: [100, 200, 300]},\n",
       "             scoring=&#x27;r2&#x27;)</pre></div></div></div><div class=\"sk-parallel\"><div class=\"sk-parallel-item\"><div class=\"sk-item\"><div class=\"sk-label-container\"><div class=\"sk-label sk-toggleable\"><input class=\"sk-toggleable__control sk-hidden--visually\" id=\"sk-estimator-id-2\" type=\"checkbox\" ><label for=\"sk-estimator-id-2\" class=\"sk-toggleable__label sk-toggleable__label-arrow\">estimator: RandomForestRegressor</label><div class=\"sk-toggleable__content\"><pre>RandomForestRegressor()</pre></div></div></div><div class=\"sk-serial\"><div class=\"sk-item\"><div class=\"sk-estimator sk-toggleable\"><input class=\"sk-toggleable__control sk-hidden--visually\" id=\"sk-estimator-id-3\" type=\"checkbox\" ><label for=\"sk-estimator-id-3\" class=\"sk-toggleable__label sk-toggleable__label-arrow\">RandomForestRegressor</label><div class=\"sk-toggleable__content\"><pre>RandomForestRegressor()</pre></div></div></div></div></div></div></div></div></div></div>"
      ],
      "text/plain": [
       "GridSearchCV(cv=5, estimator=RandomForestRegressor(),\n",
       "             param_grid={'max_depth': [None, 10, 20],\n",
       "                         'min_samples_leaf': [1, 2, 4],\n",
       "                         'min_samples_split': [2, 5, 10],\n",
       "                         'n_estimators': [100, 200, 300]},\n",
       "             scoring='r2')"
      ]
     },
     "execution_count": 46,
     "metadata": {},
     "output_type": "execute_result"
    }
   ],
   "source": [
    "clf.fit(X_train,y_train)"
   ]
  },
  {
   "cell_type": "code",
   "execution_count": 47,
   "id": "31c817bb",
   "metadata": {},
   "outputs": [],
   "source": [
    "y_pred=clf.predict(X_test)"
   ]
  },
  {
   "cell_type": "code",
   "execution_count": 48,
   "id": "6654e32b",
   "metadata": {},
   "outputs": [],
   "source": [
    "score=r2_score(y_test,y_pred)"
   ]
  },
  {
   "cell_type": "code",
   "execution_count": 49,
   "id": "e5011cbf",
   "metadata": {},
   "outputs": [
    {
     "data": {
      "text/plain": [
       "0.9573357393738645"
      ]
     },
     "execution_count": 49,
     "metadata": {},
     "output_type": "execute_result"
    }
   ],
   "source": [
    "score"
   ]
  },
  {
   "cell_type": "code",
   "execution_count": 50,
   "id": "4fa5c9e5",
   "metadata": {},
   "outputs": [
    {
     "name": "stdout",
     "output_type": "stream",
     "text": [
      "The accuracy is 95.73357393738645 %\n"
     ]
    }
   ],
   "source": [
    "print(\"The accuracy is {} %\".format(score*100))"
   ]
  },
  {
   "cell_type": "code",
   "execution_count": 51,
   "id": "5dc4f4d2",
   "metadata": {},
   "outputs": [],
   "source": [
    "import pickle"
   ]
  },
  {
   "cell_type": "code",
   "execution_count": 52,
   "id": "f5f6799c",
   "metadata": {},
   "outputs": [],
   "source": [
    "pickle.dump(sd,open(\"scaler.pkl\",\"wb\"))\n",
    "pickle.dump(rfr,open(\"randomforest.pkl\",\"wb\"))"
   ]
  }
 ],
 "metadata": {
  "kernelspec": {
   "display_name": "Python 3 (ipykernel)",
   "language": "python",
   "name": "python3"
  },
  "language_info": {
   "codemirror_mode": {
    "name": "ipython",
    "version": 3
   },
   "file_extension": ".py",
   "mimetype": "text/x-python",
   "name": "python",
   "nbconvert_exporter": "python",
   "pygments_lexer": "ipython3",
   "version": "3.11.5"
  }
 },
 "nbformat": 4,
 "nbformat_minor": 5
}
